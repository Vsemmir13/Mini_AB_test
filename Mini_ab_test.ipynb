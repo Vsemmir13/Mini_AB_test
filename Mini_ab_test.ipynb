{
 "cells": [
  {
   "cell_type": "markdown",
   "metadata": {
    "cell_id": "49587cb8415c40a4bef87f2d91b88c64",
    "deepnote_cell_type": "text-cell-h2",
    "formattedRanges": [],
    "id": "9F0IFJPCyQwE",
    "is_collapsed": false,
    "tags": []
   },
   "source": [
    "# A/B test о длительности сессии"
   ]
  },
  {
   "cell_type": "code",
   "execution_count": 2,
   "metadata": {
    "cell_id": "0a39697edd0d467f87550752f6e7ff6a",
    "deepnote_cell_type": "code",
    "deepnote_to_be_reexecuted": false,
    "execution_millis": 2248286,
    "execution_start": 1676293288518,
    "id": "vg74IdO9yQwF",
    "source_hash": "c76c7c51",
    "tags": []
   },
   "outputs": [],
   "source": [
    "import pandas as pd\n",
    "import numpy as np"
   ]
  },
  {
   "cell_type": "markdown",
   "metadata": {
    "cell_id": "0be6f4a2-4920-4391-904c-d70c71af9450",
    "deepnote_cell_type": "text-cell-p",
    "formattedRanges": [],
    "id": "jEhJD5tjyQwG",
    "is_collapsed": false,
    "tags": []
   },
   "source": [
    "Мы сотрудники компании X (twitter) и работаем над улучшением рекомендательной системы. Возникает вопроc какие твиты показывать пользователю, чтобы ему было максимально интересно. Проанализируем сколько времени пользователь проводит в приложении или на сайте, когда туда заходит. Основываясь на этом, хотим улучшить рекомендательную систему."
   ]
  },
  {
   "cell_type": "markdown",
   "metadata": {
    "id": "gpXa28Dty0l-"
   },
   "source": [
    "# Анализ исходных данных"
   ]
  },
  {
   "cell_type": "markdown",
   "metadata": {
    "cell_id": "7fffbe85-1fd6-4445-b2a4-e8a72d8d6d44",
    "deepnote_cell_type": "text-cell-p",
    "formattedRanges": [],
    "id": "xSVM9C9qyQwH",
    "is_collapsed": false,
    "tags": []
   },
   "source": [
    "Сгенерируем Данные по длине пользовательских сессий (в секундах) с помощью логнормального распределения."
   ]
  },
  {
   "cell_type": "code",
   "execution_count": 3,
   "metadata": {
    "cell_id": "e3fae01b042e4d08a029c2b5de0a3c07",
    "deepnote_cell_type": "code",
    "deepnote_to_be_reexecuted": false,
    "execution_millis": 1,
    "execution_start": 1676293288519,
    "id": "WWgYN2A9yQwH",
    "source_hash": "6a5c3e68",
    "tags": []
   },
   "outputs": [],
   "source": [
    "df = pd.DataFrame({'session_len':np.random.lognormal(6,0.8,size=20000)})"
   ]
  },
  {
   "cell_type": "code",
   "execution_count": 4,
   "metadata": {
    "cell_id": "19cd7aa9b8c047f799a08af0a11c6fd7",
    "colab": {
     "base_uri": "https://localhost:8080/",
     "height": 206
    },
    "deepnote_cell_type": "code",
    "deepnote_to_be_reexecuted": false,
    "execution_millis": 34,
    "execution_start": 1676293288521,
    "id": "GmVWPgf5yQwH",
    "outputId": "33464749-21d0-474b-8f1f-081268734835",
    "source_hash": "c085b6ba",
    "tags": []
   },
   "outputs": [
    {
     "data": {
      "text/html": [
       "<div>\n",
       "<style scoped>\n",
       "    .dataframe tbody tr th:only-of-type {\n",
       "        vertical-align: middle;\n",
       "    }\n",
       "\n",
       "    .dataframe tbody tr th {\n",
       "        vertical-align: top;\n",
       "    }\n",
       "\n",
       "    .dataframe thead th {\n",
       "        text-align: right;\n",
       "    }\n",
       "</style>\n",
       "<table border=\"1\" class=\"dataframe\">\n",
       "  <thead>\n",
       "    <tr style=\"text-align: right;\">\n",
       "      <th></th>\n",
       "      <th>session_len</th>\n",
       "    </tr>\n",
       "  </thead>\n",
       "  <tbody>\n",
       "    <tr>\n",
       "      <th>0</th>\n",
       "      <td>718.153787</td>\n",
       "    </tr>\n",
       "    <tr>\n",
       "      <th>1</th>\n",
       "      <td>1003.652306</td>\n",
       "    </tr>\n",
       "    <tr>\n",
       "      <th>2</th>\n",
       "      <td>1210.968426</td>\n",
       "    </tr>\n",
       "    <tr>\n",
       "      <th>3</th>\n",
       "      <td>214.429843</td>\n",
       "    </tr>\n",
       "    <tr>\n",
       "      <th>4</th>\n",
       "      <td>77.135035</td>\n",
       "    </tr>\n",
       "  </tbody>\n",
       "</table>\n",
       "</div>"
      ],
      "text/plain": [
       "   session_len\n",
       "0   718.153787\n",
       "1  1003.652306\n",
       "2  1210.968426\n",
       "3   214.429843\n",
       "4    77.135035"
      ]
     },
     "execution_count": 4,
     "metadata": {},
     "output_type": "execute_result"
    }
   ],
   "source": [
    "df.head()"
   ]
  },
  {
   "cell_type": "code",
   "execution_count": 5,
   "metadata": {
    "cell_id": "5198cd980d8346c78d8262bc36ebe015",
    "colab": {
     "base_uri": "https://localhost:8080/",
     "height": 447
    },
    "deepnote_cell_type": "code",
    "deepnote_to_be_reexecuted": false,
    "execution_millis": 563,
    "execution_start": 1676293288522,
    "id": "IyNH05BAyQwI",
    "outputId": "bfd615a8-35a7-4c20-87af-ae06d4b78339",
    "source_hash": "1de970d7",
    "tags": []
   },
   "outputs": [
    {
     "data": {
      "text/plain": [
       "<Axes: >"
      ]
     },
     "execution_count": 5,
     "metadata": {},
     "output_type": "execute_result"
    },
    {
     "data": {
      "image/png": "[encoded data removed]",
      "text/plain": [
       "<Figure size 640x480 with 1 Axes>"
      ]
     },
     "metadata": {},
     "output_type": "display_data"
    }
   ],
   "source": [
    "df['session_len'].hist()"
   ]
  },
  {
   "cell_type": "code",
   "execution_count": 6,
   "metadata": {
    "cell_id": "6e4fcc4c2db244ceaa3194aa0fb3cbfa",
    "colab": {
     "base_uri": "https://localhost:8080/"
    },
    "deepnote_cell_type": "code",
    "deepnote_to_be_reexecuted": false,
    "execution_millis": 3,
    "execution_start": 1676293289129,
    "id": "ixTiC_6gyQwI",
    "outputId": "5454043f-98db-474b-ece9-beb4451b0dae",
    "source_hash": "90b3280e",
    "tags": []
   },
   "outputs": [
    {
     "data": {
      "text/plain": [
       "550.451977515545"
      ]
     },
     "execution_count": 6,
     "metadata": {},
     "output_type": "execute_result"
    }
   ],
   "source": [
    "df['session_len'].mean()"
   ]
  },
  {
   "cell_type": "markdown",
   "metadata": {
    "cell_id": "4b88821cc5ed4a3e97f1ec6c5cd23dfc",
    "deepnote_cell_type": "text-cell-p",
    "formattedRanges": [],
    "id": "C8lVGNcVyQwI",
    "is_collapsed": false,
    "tags": []
   },
   "source": [
    "В среднем пользовательская сессия длится 550 секунд или около 9 минут. Видим, что в основном сессии короткие, но бывают и достаточно длинные."
   ]
  },
  {
   "cell_type": "markdown",
   "metadata": {
    "id": "cQND3okLy49i"
   },
   "source": [
    "# Гипотезы"
   ]
  },
  {
   "cell_type": "markdown",
   "metadata": {
    "cell_id": "cf78518bcd3d4b52bac940012c26d185",
    "deepnote_cell_type": "text-cell-p",
    "formattedRanges": [],
    "id": "Z4bG77I1yQwJ",
    "is_collapsed": false,
    "tags": []
   },
   "source": [
    "Мы хотим протестировать изменение в рекомендательном алгоритме. Пусть мы придумали кое-какое нововведение, которое по нашему мнению должно сделать ленту более интересной, и, следовательно, время сессии увеличится.\n",
    "\n",
    "Подобного рода гипотезы проверяются с помощью А/Б теста с контрольной и тестовой группой.\n",
    "\n",
    "Будет две группы:\n",
    "- Контрольная (А): в этой группе пользователи будут видеть старые рекомендации\n",
    "- Тестовая (Б): в этой группе пользователи будет видеть новые рекомендации.\n",
    "\n",
    "Формулируем нулевую и альтернативную гипотезы:\n",
    "- H0: средняя длина пользовательской сессии в группе А и в группе Б равны\n",
    "- H1: средняя длина пользовательской сессии в группе А и в группе Б не равны\n",
    "\n",
    "Альтернативная гипотеза выбрана двухсторонняя, так как в данном случае нас так же интересуют отклонение средней длительности как вниз, так и вверх."
   ]
  },
  {
   "cell_type": "markdown",
   "metadata": {
    "id": "KsTK0SplzDsb"
   },
   "source": [
    "# Требования к тесту"
   ]
  },
  {
   "cell_type": "markdown",
   "metadata": {
    "cell_id": "28d8ed13-39b5-4239-86ed-6489a2bbaed0",
    "deepnote_cell_type": "text-cell-p",
    "formattedRanges": [],
    "id": "CjWv3CDWyQwJ",
    "is_collapsed": false,
    "tags": []
   },
   "source": [
    "Решим какие минимальный эффект, мощность и альфу (значимость) мы хотим получить для этого теста.\n",
    "\n",
    "Предположим, что нам интересно отслеживать изменение длины пользовательской сессии минимум на 1 минуту или на 60 секунд. Данных у нас в X много, поэтому мы вполне можем позволить себе мощность 90% и альфу 1%.\n",
    "\n",
    "Хотим чтобы тест:\n",
    "- мог обнаружить изменение пользовательской сессии минимум на 60 секунд (MDE)\n",
    "- имел мощность в 90% (Sensivity), т.е. обнаруживал наличие отклонения в 90% случаев, когда оно действительно есть\n",
    "- имел альфу 1% (Significance), т.е. обнаруживал наличие отклонения только  в 1% случаев, когда отклонения на самом деле нет. \n",
    "\n",
    "Длина пользовательской сессии – это непрерывная переменная, поэтому здесь мы будем использовать t test для рассчета p-value."
   ]
  },
  {
   "cell_type": "markdown",
   "metadata": {
    "id": "jFVu1it8zREd"
   },
   "source": [
    "## Нормальность выборочного среднего"
   ]
  },
  {
   "cell_type": "markdown",
   "metadata": {
    "cell_id": "5a26caab-8f06-45dc-b9bd-1292d312b719",
    "deepnote_cell_type": "text-cell-p",
    "formattedRanges": [],
    "id": "bpJacMcfyQwK",
    "is_collapsed": false,
    "tags": []
   },
   "source": [
    "Требование для t-test: выборочное среднее должно быть распределено нормально. Проверим это.\n",
    "\n",
    "У нас есть выборка в 20000 сессий. С помощью бутстрепа посмотрим, как будет распределено выборочное среднее при таком размере выборке."
   ]
  },
  {
   "cell_type": "code",
   "execution_count": 9,
   "metadata": {
    "cell_id": "557021ff398b4e089d7b7a13eb16e46c",
    "deepnote_cell_type": "code",
    "deepnote_to_be_reexecuted": false,
    "execution_millis": 915,
    "execution_start": 1676293363314,
    "id": "iou0TtKWyQwK",
    "source_hash": "42331e23",
    "tags": []
   },
   "outputs": [],
   "source": [
    "result = []\n",
    "for i in range(1000):\n",
    "    result.append(df['session_len'].sample(frac=1, replace=True, random_state=i).mean())\n",
    "t = pd.DataFrame({'sample_mean':result})"
   ]
  },
  {
   "cell_type": "markdown",
   "metadata": {
    "cell_id": "b3a5b4ff920f4cf09348e8b550005dc5",
    "deepnote_cell_type": "text-cell-p",
    "formattedRanges": [],
    "id": "4Gk2HSoyyQwL",
    "is_collapsed": false,
    "tags": []
   },
   "source": [
    "Посмотрим на гистограмму."
   ]
  },
  {
   "cell_type": "code",
   "execution_count": 10,
   "metadata": {
    "cell_id": "984b1ba95f29488aa837b8ae834f63b0",
    "colab": {
     "base_uri": "https://localhost:8080/",
     "height": 447
    },
    "deepnote_cell_type": "code",
    "deepnote_to_be_reexecuted": false,
    "execution_millis": 243,
    "execution_start": 1676293381858,
    "id": "oXNuOxvIyQwL",
    "outputId": "4cc3264a-ae81-4567-e308-7622e58f5668",
    "source_hash": "45a12c03",
    "tags": []
   },
   "outputs": [
    {
     "data": {
      "text/plain": [
       "<Axes: >"
      ]
     },
     "execution_count": 10,
     "metadata": {},
     "output_type": "execute_result"
    },
    {
     "data": {
      "image/png": "[encoded data removed]",
      "text/plain": [
       "<Figure size 640x480 with 1 Axes>"
      ]
     },
     "metadata": {},
     "output_type": "display_data"
    }
   ],
   "source": [
    "t['sample_mean'].hist()"
   ]
  },
  {
   "cell_type": "markdown",
   "metadata": {
    "cell_id": "ccad4f4841e24398abf28267e6122b91",
    "deepnote_cell_type": "text-cell-p",
    "formattedRanges": [],
    "id": "0T28vfjQyQwL",
    "is_collapsed": false,
    "tags": []
   },
   "source": [
    "Кажется, что распределение вполне нормальное. Подтвердим это еще одним графиком графиком."
   ]
  },
  {
   "cell_type": "code",
   "execution_count": 11,
   "metadata": {
    "cell_id": "69ce92c3d4b646f8a70107b1d59ef32a",
    "colab": {
     "base_uri": "https://localhost:8080/",
     "height": 472
    },
    "deepnote_cell_type": "code",
    "deepnote_to_be_reexecuted": false,
    "execution_millis": 931,
    "execution_start": 1676293474787,
    "id": "Wy80-huHyQwL",
    "outputId": "8ecfe1a6-1610-47b5-9442-02d64542e94e",
    "source_hash": "e7b376de",
    "tags": []
   },
   "outputs": [
    {
     "data": {
      "image/png": "[encoded data removed]",
      "text/plain": [
       "<Figure size 640x480 with 1 Axes>"
      ]
     },
     "metadata": {},
     "output_type": "display_data"
    }
   ],
   "source": [
    "import pylab\n",
    "import scipy.stats as stats\n",
    "\n",
    "stats.probplot(t['sample_mean'], dist=\"norm\", plot=pylab)\n",
    "pylab.show()"
   ]
  },
  {
   "cell_type": "markdown",
   "metadata": {
    "cell_id": "401e0025652f4d31bbddacf2412328c8",
    "deepnote_cell_type": "text-cell-p",
    "formattedRanges": [],
    "id": "tYG7XOEdyQwL",
    "is_collapsed": false,
    "tags": []
   },
   "source": [
    "Да, распределение вполне можно считать нормальным."
   ]
  },
  {
   "cell_type": "markdown",
   "metadata": {
    "id": "27nWPKG9zZJY"
   },
   "source": [
    "## Проверка соответствия реального FPR желаемому"
   ]
  },
  {
   "cell_type": "markdown",
   "metadata": {
    "cell_id": "b61f8492-f251-4009-8672-859c2f81958f",
    "deepnote_cell_type": "text-cell-p",
    "formattedRanges": [],
    "id": "escy5kVcyQwL",
    "is_collapsed": false,
    "tags": []
   },
   "source": [
    "Рассмотрим, соответствует ли альфа реальной вероятности ошибки первого рода. Для этого нам потребуется сам t-test (для двух выборок)."
   ]
  },
  {
   "cell_type": "code",
   "execution_count": 12,
   "metadata": {
    "cell_id": "fb9606cbace04e0db152085c0e7040a1",
    "deepnote_cell_type": "code",
    "deepnote_to_be_reexecuted": false,
    "execution_millis": 2,
    "execution_start": 1676293690318,
    "id": "Zx9eMqRHyQwL",
    "source_hash": "dc1f458c",
    "tags": []
   },
   "outputs": [],
   "source": [
    "from scipy.stats import ttest_ind"
   ]
  },
  {
   "cell_type": "code",
   "execution_count": 13,
   "metadata": {
    "cell_id": "ec583ff2a26c47ba93dc26d1bcecc039",
    "deepnote_cell_type": "code",
    "deepnote_to_be_reexecuted": false,
    "execution_millis": 2,
    "execution_start": 1676293981908,
    "id": "pkIUVRu3yQwM",
    "source_hash": "1ed3619b",
    "tags": []
   },
   "outputs": [],
   "source": [
    "a = df['session_len'].sample(frac=1,replace=True,random_state=0)"
   ]
  },
  {
   "cell_type": "code",
   "execution_count": 14,
   "metadata": {
    "cell_id": "ab4471df54a94ed2ba06984ec2331558",
    "deepnote_cell_type": "code",
    "deepnote_to_be_reexecuted": false,
    "execution_millis": 2,
    "execution_start": 1676293982320,
    "id": "OjGcCV8_yQwS",
    "source_hash": "47f08183",
    "tags": []
   },
   "outputs": [],
   "source": [
    "b = df['session_len'].sample(frac=1,replace=True,random_state=1)"
   ]
  },
  {
   "cell_type": "code",
   "execution_count": 15,
   "metadata": {
    "cell_id": "dd55de7a06a04812a5a86e3933326e0c",
    "colab": {
     "base_uri": "https://localhost:8080/"
    },
    "deepnote_cell_type": "code",
    "deepnote_to_be_reexecuted": false,
    "execution_millis": 5,
    "execution_start": 1676293984093,
    "id": "XzyKgyERyQwS",
    "outputId": "16a7e18e-193d-488f-dede-2c1f118b62c1",
    "source_hash": "513e142e",
    "tags": []
   },
   "outputs": [
    {
     "data": {
      "text/plain": [
       "TtestResult(statistic=0.2690525335269282, pvalue=0.7878906456252137, df=39963.71789698123)"
      ]
     },
     "execution_count": 15,
     "metadata": {},
     "output_type": "execute_result"
    }
   ],
   "source": [
    "ttest_ind(a,b,equal_var=False,alternative='two-sided')"
   ]
  },
  {
   "cell_type": "markdown",
   "metadata": {
    "cell_id": "45ec0530-4011-4bed-862b-1ab0547b3ecc",
    "deepnote_cell_type": "text-cell-p",
    "formattedRanges": [],
    "id": "ODtMgW-oyQwS",
    "is_collapsed": false,
    "tags": []
   },
   "source": [
    "Теперь проверим, соответствует ли альфа реальной вероятности ошибки первого рода (fpr). Для этого будем генерировать подвыборки из исходной выборки и считать для них p-value."
   ]
  },
  {
   "cell_type": "code",
   "execution_count": 16,
   "metadata": {
    "cell_id": "8c121f1d4f9047bdb92f497e15dd0405",
    "deepnote_cell_type": "code",
    "deepnote_to_be_reexecuted": false,
    "execution_millis": 1835,
    "execution_start": 1676294843206,
    "id": "TdKH6iATyQwT",
    "source_hash": "15bce2eb",
    "tags": []
   },
   "outputs": [],
   "source": [
    "n = 1000\n",
    "result = []\n",
    "for i in range(n):\n",
    "    a = df['session_len'].sample(frac=1,replace=True,random_state=i)\n",
    "    b = df['session_len'].sample(frac=1,replace=True,random_state=n-i)\n",
    "    pvalue = ttest_ind(a,b,equal_var=False,alternative='two-sided')[1]\n",
    "    result.append((a.mean(),b.mean(),abs(a.mean() - b.mean()),pvalue))"
   ]
  },
  {
   "cell_type": "code",
   "execution_count": 18,
   "metadata": {
    "cell_id": "b699ff48dc5c4632814a5a97858678b6",
    "deepnote_cell_type": "code",
    "deepnote_to_be_reexecuted": false,
    "execution_millis": 3,
    "execution_start": 1676294856723,
    "id": "I_zFA5QayQwT",
    "source_hash": "eedb77e0",
    "tags": []
   },
   "outputs": [
    {
     "data": {
      "text/html": [
       "<div>\n",
       "<style scoped>\n",
       "    .dataframe tbody tr th:only-of-type {\n",
       "        vertical-align: middle;\n",
       "    }\n",
       "\n",
       "    .dataframe tbody tr th {\n",
       "        vertical-align: top;\n",
       "    }\n",
       "\n",
       "    .dataframe thead th {\n",
       "        text-align: right;\n",
       "    }\n",
       "</style>\n",
       "<table border=\"1\" class=\"dataframe\">\n",
       "  <thead>\n",
       "    <tr style=\"text-align: right;\">\n",
       "      <th></th>\n",
       "      <th>a_mean</th>\n",
       "      <th>b_mean</th>\n",
       "      <th>diff_abs</th>\n",
       "      <th>p-value</th>\n",
       "    </tr>\n",
       "  </thead>\n",
       "  <tbody>\n",
       "    <tr>\n",
       "      <th>0</th>\n",
       "      <td>552.210738</td>\n",
       "      <td>546.241618</td>\n",
       "      <td>5.969120</td>\n",
       "      <td>0.248652</td>\n",
       "    </tr>\n",
       "    <tr>\n",
       "      <th>1</th>\n",
       "      <td>550.836881</td>\n",
       "      <td>547.598755</td>\n",
       "      <td>3.238125</td>\n",
       "      <td>0.520795</td>\n",
       "    </tr>\n",
       "    <tr>\n",
       "      <th>2</th>\n",
       "      <td>547.081942</td>\n",
       "      <td>545.028197</td>\n",
       "      <td>2.053745</td>\n",
       "      <td>0.678381</td>\n",
       "    </tr>\n",
       "    <tr>\n",
       "      <th>3</th>\n",
       "      <td>547.737499</td>\n",
       "      <td>549.177410</td>\n",
       "      <td>1.439912</td>\n",
       "      <td>0.773628</td>\n",
       "    </tr>\n",
       "    <tr>\n",
       "      <th>4</th>\n",
       "      <td>549.737839</td>\n",
       "      <td>548.959814</td>\n",
       "      <td>0.778024</td>\n",
       "      <td>0.879558</td>\n",
       "    </tr>\n",
       "    <tr>\n",
       "      <th>...</th>\n",
       "      <td>...</td>\n",
       "      <td>...</td>\n",
       "      <td>...</td>\n",
       "      <td>...</td>\n",
       "    </tr>\n",
       "    <tr>\n",
       "      <th>995</th>\n",
       "      <td>552.581660</td>\n",
       "      <td>550.430360</td>\n",
       "      <td>2.151300</td>\n",
       "      <td>0.670567</td>\n",
       "    </tr>\n",
       "    <tr>\n",
       "      <th>996</th>\n",
       "      <td>548.959814</td>\n",
       "      <td>549.737839</td>\n",
       "      <td>0.778024</td>\n",
       "      <td>0.879558</td>\n",
       "    </tr>\n",
       "    <tr>\n",
       "      <th>997</th>\n",
       "      <td>549.177410</td>\n",
       "      <td>547.737499</td>\n",
       "      <td>1.439912</td>\n",
       "      <td>0.773628</td>\n",
       "    </tr>\n",
       "    <tr>\n",
       "      <th>998</th>\n",
       "      <td>545.028197</td>\n",
       "      <td>547.081942</td>\n",
       "      <td>2.053745</td>\n",
       "      <td>0.678381</td>\n",
       "    </tr>\n",
       "    <tr>\n",
       "      <th>999</th>\n",
       "      <td>547.598755</td>\n",
       "      <td>550.836881</td>\n",
       "      <td>3.238125</td>\n",
       "      <td>0.520795</td>\n",
       "    </tr>\n",
       "  </tbody>\n",
       "</table>\n",
       "<p>1000 rows × 4 columns</p>\n",
       "</div>"
      ],
      "text/plain": [
       "         a_mean      b_mean  diff_abs   p-value\n",
       "0    552.210738  546.241618  5.969120  0.248652\n",
       "1    550.836881  547.598755  3.238125  0.520795\n",
       "2    547.081942  545.028197  2.053745  0.678381\n",
       "3    547.737499  549.177410  1.439912  0.773628\n",
       "4    549.737839  548.959814  0.778024  0.879558\n",
       "..          ...         ...       ...       ...\n",
       "995  552.581660  550.430360  2.151300  0.670567\n",
       "996  548.959814  549.737839  0.778024  0.879558\n",
       "997  549.177410  547.737499  1.439912  0.773628\n",
       "998  545.028197  547.081942  2.053745  0.678381\n",
       "999  547.598755  550.836881  3.238125  0.520795\n",
       "\n",
       "[1000 rows x 4 columns]"
      ]
     },
     "execution_count": 18,
     "metadata": {},
     "output_type": "execute_result"
    }
   ],
   "source": [
    "t = pd.DataFrame(result,columns=['a_mean','b_mean','diff_abs','p-value'])\n",
    "t"
   ]
  },
  {
   "cell_type": "markdown",
   "metadata": {
    "cell_id": "c43e5fa35c3d4ebbac7e420b6edc77c6",
    "deepnote_cell_type": "text-cell-p",
    "formattedRanges": [],
    "id": "1hdyKL8gyQwT",
    "is_collapsed": false,
    "tags": []
   },
   "source": [
    "Столбцы в этой таблице:\n",
    "- средняя длина сессии в контрольной группе\n",
    "- средняя длина сессии в тестовой группе\n",
    "- разница между двумя средними по модулю\n",
    "- p-value: вероятность получить минимум такое различие между средними при условии, что среднее в контрольной и тестовой группе равны"
   ]
  },
  {
   "cell_type": "markdown",
   "metadata": {
    "cell_id": "cf4cec6d888546c89623f91ee4d9aaef",
    "deepnote_cell_type": "text-cell-p",
    "formattedRanges": [],
    "id": "M2cnMmLYyQwT",
    "is_collapsed": false,
    "tags": []
   },
   "source": [
    "Отвергнем нулевую гипотезу с альфой равной 1%, и посмотрим какую долю ошибок первого рода мы тут допустим: ведь мы знаем, что нулевая гипотеза здесь заведома верна для всех строк."
   ]
  },
  {
   "cell_type": "code",
   "execution_count": 20,
   "metadata": {
    "cell_id": "03bf140e1ff444639c72990bf4a59840",
    "colab": {
     "base_uri": "https://localhost:8080/"
    },
    "deepnote_cell_type": "code",
    "deepnote_to_be_reexecuted": false,
    "execution_millis": 37,
    "execution_start": 1676295087411,
    "id": "z8-dRV3ayQwT",
    "outputId": "56db7845-723d-420f-dbf1-221d2df17e64",
    "source_hash": "52abc27",
    "tags": []
   },
   "outputs": [
    {
     "data": {
      "text/plain": [
       "0.018"
      ]
     },
     "execution_count": 20,
     "metadata": {},
     "output_type": "execute_result"
    }
   ],
   "source": [
    "(t['p-value'] < 0.01).mean()"
   ]
  },
  {
   "cell_type": "markdown",
   "metadata": {
    "cell_id": "b8733c8596a24d66808b1ec7fa253742",
    "deepnote_cell_type": "text-cell-p",
    "formattedRanges": [],
    "id": "cwjRYnXLyQwU",
    "is_collapsed": false,
    "tags": []
   },
   "source": [
    "Нас это удовлетворяет. Сравним распределение p-value c равномерным распределением."
   ]
  },
  {
   "cell_type": "code",
   "execution_count": 22,
   "metadata": {
    "cell_id": "c017aa90b6b644219e57c6be3098deb4",
    "colab": {
     "base_uri": "https://localhost:8080/",
     "height": 472
    },
    "deepnote_cell_type": "code",
    "deepnote_to_be_reexecuted": false,
    "execution_millis": 247,
    "execution_start": 1676295168460,
    "id": "qGzQ3jYjyQwU",
    "outputId": "67283a18-8d03-47ff-b28d-3592d5eca578",
    "source_hash": "4ac0c466",
    "tags": []
   },
   "outputs": [
    {
     "data": {
      "image/png": "[encoded data removed]",
      "text/plain": [
       "<Figure size 640x480 with 1 Axes>"
      ]
     },
     "metadata": {},
     "output_type": "display_data"
    }
   ],
   "source": [
    "stats.probplot(t['p-value'], dist=\"uniform\", plot=pylab)\n",
    "pylab.show()"
   ]
  },
  {
   "cell_type": "markdown",
   "metadata": {
    "cell_id": "3c722da0b74a4dc49c9bd02b943ee71a",
    "deepnote_cell_type": "text-cell-p",
    "formattedRanges": [],
    "id": "TzShl2hWyQwU",
    "is_collapsed": false,
    "tags": []
   },
   "source": [
    "Распределение p-value равномерное, а значит ошибка первого рода всегда будет соответствовать альфе. T-test проверен со всех сторон."
   ]
  },
  {
   "cell_type": "markdown",
   "metadata": {
    "id": "5Gp2KFmqzj65"
   },
   "source": [
    "# Расчет размера выборок"
   ]
  },
  {
   "cell_type": "markdown",
   "metadata": {
    "cell_id": "7c83da1c-a6ee-4eb1-babd-76ba75d01418",
    "deepnote_cell_type": "text-cell-p",
    "formattedRanges": [],
    "id": "qI7kwYWyyQwU",
    "is_collapsed": false,
    "tags": []
   },
   "source": [
    "Возьмем все параметры и рассчитаем необходимые размеры выборок."
   ]
  },
  {
   "cell_type": "code",
   "execution_count": 24,
   "metadata": {
    "cell_id": "e2f32d6e35da444ea8ed0a8542ca05ea",
    "deepnote_cell_type": "code",
    "deepnote_to_be_reexecuted": false,
    "execution_millis": 527,
    "execution_start": 1676296029921,
    "id": "nn1GwIIcyQwU",
    "source_hash": "4855c035",
    "tags": []
   },
   "outputs": [],
   "source": [
    "import statsmodels.stats.api as sms"
   ]
  },
  {
   "cell_type": "markdown",
   "metadata": {
    "cell_id": "2cd586bb2c25480c8a80d9cdc598352a",
    "deepnote_cell_type": "text-cell-p",
    "formattedRanges": [],
    "id": "wKV7JSBbyQwU",
    "is_collapsed": false,
    "tags": []
   },
   "source": [
    "Рассчитаем размер эффекта по формуле: минимальный эффект (минимум 60 секунд) / на стандартное отклонение. "
   ]
  },
  {
   "cell_type": "code",
   "execution_count": 25,
   "metadata": {
    "cell_id": "e02fd15efbab4a589f1462f4f81a99a7",
    "deepnote_cell_type": "code",
    "deepnote_to_be_reexecuted": false,
    "execution_millis": 0,
    "execution_start": 1676296319860,
    "id": "xxrnKLjjyQwU",
    "source_hash": "c4b346bf",
    "tags": []
   },
   "outputs": [
    {
     "data": {
      "text/plain": [
       "0.11716871545307542"
      ]
     },
     "execution_count": 25,
     "metadata": {},
     "output_type": "execute_result"
    }
   ],
   "source": [
    "es = 60 / df['session_len'].std()\n",
    "es"
   ]
  },
  {
   "cell_type": "code",
   "execution_count": 26,
   "metadata": {
    "cell_id": "2afb02499e414bac969fc319149c38ff",
    "colab": {
     "base_uri": "https://localhost:8080/"
    },
    "deepnote_cell_type": "code",
    "deepnote_to_be_reexecuted": false,
    "execution_millis": 3,
    "execution_start": 1676297567088,
    "id": "gkd8UUkgyQwU",
    "outputId": "eeabc7d1-df3e-4498-fb36-4bb2dfb8fe7d",
    "source_hash": "dfc50e4b",
    "tags": []
   },
   "outputs": [
    {
     "data": {
      "text/plain": [
       "2169.322185684513"
      ]
     },
     "execution_count": 26,
     "metadata": {},
     "output_type": "execute_result"
    }
   ],
   "source": [
    "sms.TTestIndPower().solve_power(es, power=0.90, alpha=0.01, ratio=1, alternative='two-sided')"
   ]
  },
  {
   "cell_type": "markdown",
   "metadata": {
    "cell_id": "96f8b7ab4f96496c8325f9d15743104e",
    "deepnote_cell_type": "text-cell-p",
    "formattedRanges": [],
    "id": "1ePiSyk9yQwV",
    "is_collapsed": false,
    "tags": []
   },
   "source": [
    "Получилось, что нам нужно всего 2170 наблюдения в каждой группе. А будет ли ти тест давать нормальные результаты при такой маленькой выборке? Посмотрим на распределение p-value для верной нулевой гипотезы при таких выборках."
   ]
  },
  {
   "cell_type": "code",
   "execution_count": 27,
   "metadata": {
    "cell_id": "06c6a176e4c14c3c91c2e1083e765d65",
    "deepnote_cell_type": "code",
    "deepnote_to_be_reexecuted": false,
    "execution_millis": 1104,
    "execution_start": 1676296531668,
    "id": "-rxuH9JoyQwV",
    "source_hash": "110fe81c",
    "tags": []
   },
   "outputs": [],
   "source": [
    "n = 1000\n",
    "result = []\n",
    "for i in range(n):\n",
    "    a = df['session_len'].sample(2170,replace=True,random_state=i)\n",
    "    b = df['session_len'].sample(2170,replace=True,random_state=n-i)\n",
    "    pvalue = ttest_ind(a,b,equal_var=False,alternative='two-sided')[1]\n",
    "    result.append((a.mean(),b.mean(),abs(a.mean() - b.mean()),pvalue))"
   ]
  },
  {
   "cell_type": "code",
   "execution_count": 28,
   "metadata": {
    "cell_id": "f5711b0ac5344cfd9c4cebd0093c27a4",
    "deepnote_cell_type": "code",
    "deepnote_to_be_reexecuted": false,
    "execution_millis": 1,
    "execution_start": 1676296532773,
    "id": "xfGBMAD8yQwV",
    "source_hash": "eedb77e0",
    "tags": []
   },
   "outputs": [],
   "source": [
    "t = pd.DataFrame(result,columns=['a_mean','b_mean','diff_abs','p-value'])"
   ]
  },
  {
   "cell_type": "code",
   "execution_count": 29,
   "metadata": {
    "cell_id": "c3a8831dd8704945990a2839eb2ff98e",
    "colab": {
     "base_uri": "https://localhost:8080/",
     "height": 472
    },
    "deepnote_cell_type": "code",
    "deepnote_to_be_reexecuted": false,
    "execution_millis": 220,
    "execution_start": 1676296532998,
    "id": "tXTEOMlPyQwV",
    "outputId": "69b330b4-8127-4079-ef4a-ec6766269bec",
    "source_hash": "4ac0c466",
    "tags": []
   },
   "outputs": [
    {
     "data": {
      "image/png": "[encoded data removed]",
      "text/plain": [
       "<Figure size 640x480 with 1 Axes>"
      ]
     },
     "metadata": {},
     "output_type": "display_data"
    }
   ],
   "source": [
    "stats.probplot(t['p-value'], dist=\"uniform\", plot=pylab)\n",
    "pylab.show()"
   ]
  },
  {
   "cell_type": "markdown",
   "metadata": {
    "id": "zbCDoeTbzvoR"
   },
   "source": [
    "# Проверяем соответствует ли реальный TPR мощности"
   ]
  },
  {
   "cell_type": "markdown",
   "metadata": {
    "cell_id": "14f1de95-1d7f-4864-999f-5023e9819971",
    "deepnote_cell_type": "text-cell-p",
    "formattedRanges": [],
    "id": "02pYRObCyQwV",
    "is_collapsed": false,
    "tags": []
   },
   "source": [
    "Будет ли у теста реально мощность 90% при таком размере выборки? Посмотрим на распределение соответствующее альтернативной гипотезе. \n",
    "\n",
    "Мы хотим получить распределение со средним, которое больше на 60 секунд. Прибавим 60 к каждому наблюдению в нашей выборке (хотя это грубый трюк)"
   ]
  },
  {
   "cell_type": "markdown",
   "metadata": {
    "cell_id": "3af03aee4bae4732b223938d640b3a5c",
    "deepnote_cell_type": "text-cell-p",
    "formattedRanges": [],
    "id": "GLKiZO6VyQwV",
    "is_collapsed": false,
    "tags": []
   },
   "source": [
    "Вот исходное среднее."
   ]
  },
  {
   "cell_type": "code",
   "execution_count": 30,
   "metadata": {
    "cell_id": "99b5f1c488d74a50927c61ff9c32e35a",
    "colab": {
     "base_uri": "https://localhost:8080/"
    },
    "deepnote_cell_type": "code",
    "deepnote_to_be_reexecuted": false,
    "execution_millis": 3,
    "execution_start": 1676297018500,
    "id": "OxeY5Kj7yQwW",
    "outputId": "f9da5eaf-9614-4cc6-b0a6-9abade7c91ba",
    "source_hash": "90b3280e",
    "tags": []
   },
   "outputs": [
    {
     "data": {
      "text/plain": [
       "550.451977515545"
      ]
     },
     "execution_count": 30,
     "metadata": {},
     "output_type": "execute_result"
    }
   ],
   "source": [
    "df['session_len'].mean()"
   ]
  },
  {
   "cell_type": "markdown",
   "metadata": {
    "cell_id": "f6807962d04d4095b28b0fc9064a495e",
    "deepnote_cell_type": "text-cell-p",
    "formattedRanges": [],
    "id": "bt8s_YxqyQwW",
    "is_collapsed": false,
    "tags": []
   },
   "source": [
    "Вот измененное."
   ]
  },
  {
   "cell_type": "code",
   "execution_count": 31,
   "metadata": {
    "cell_id": "c8079f96f9d948d2aeda1259652a94b7",
    "colab": {
     "base_uri": "https://localhost:8080/"
    },
    "deepnote_cell_type": "code",
    "deepnote_to_be_reexecuted": false,
    "execution_millis": 5,
    "execution_start": 1676297027942,
    "id": "Tc9J2461yQwW",
    "outputId": "98d2ef0d-ed90-46b9-c12b-f5cc434adba5",
    "source_hash": "10bda571",
    "tags": []
   },
   "outputs": [
    {
     "data": {
      "text/plain": [
       "610.451977515545"
      ]
     },
     "execution_count": 31,
     "metadata": {},
     "output_type": "execute_result"
    }
   ],
   "source": [
    "(df['session_len'] + 60).mean()"
   ]
  },
  {
   "cell_type": "markdown",
   "metadata": {
    "cell_id": "c5664bea-b0fa-4e9d-869c-260b0e6c113e",
    "deepnote_cell_type": "text-cell-p",
    "formattedRanges": [],
    "id": "jYM2U6HKyQwW",
    "is_collapsed": false,
    "tags": []
   },
   "source": [
    "Посчитаем мощность для распределения альтернативной гипотезы полученного таким образом."
   ]
  },
  {
   "cell_type": "code",
   "execution_count": 33,
   "metadata": {
    "cell_id": "cb8fc8a6ed664afc9966d274333b782e",
    "deepnote_cell_type": "code",
    "deepnote_to_be_reexecuted": false,
    "execution_millis": 1137,
    "execution_start": 1676297149484,
    "id": "FcmTHy5vyQwW",
    "source_hash": "18fa98e4",
    "tags": []
   },
   "outputs": [],
   "source": [
    "n = 1000\n",
    "result = []\n",
    "for i in range(n):\n",
    "    a = df['session_len'].sample(2170,replace=True,random_state=i)\n",
    "    b = (df['session_len'] + 60).sample(2170,replace=True,random_state=n-i)\n",
    "    pvalue = ttest_ind(a,b,equal_var=False,alternative='two-sided')[1]\n",
    "    result.append((a.mean(),b.mean(),abs(a.mean() - b.mean()),pvalue))"
   ]
  },
  {
   "cell_type": "code",
   "execution_count": 34,
   "metadata": {
    "cell_id": "b036ee82f6d14d10b2a07f36dcf17e21",
    "deepnote_cell_type": "code",
    "deepnote_to_be_reexecuted": false,
    "execution_millis": 1,
    "execution_start": 1676297160258,
    "id": "AcfZLc_nyQwW",
    "source_hash": "eedb77e0",
    "tags": []
   },
   "outputs": [],
   "source": [
    "t = pd.DataFrame(result,columns=['a_mean','b_mean','diff_abs','p-value'])"
   ]
  },
  {
   "cell_type": "markdown",
   "metadata": {
    "cell_id": "650a789970874e3cb48087a47a27c672",
    "deepnote_cell_type": "text-cell-p",
    "formattedRanges": [],
    "id": "dwXG9S-0yQwW",
    "is_collapsed": false,
    "tags": []
   },
   "source": [
    "Отвергнем нулевую гипотезу при альфа равной 1% и посчитаем долю отвергнутых нулевых гипотез."
   ]
  },
  {
   "cell_type": "code",
   "execution_count": 35,
   "metadata": {
    "cell_id": "ef0404530422489380e59a63e03f80b8",
    "colab": {
     "base_uri": "https://localhost:8080/"
    },
    "deepnote_cell_type": "code",
    "deepnote_to_be_reexecuted": false,
    "execution_millis": 3,
    "execution_start": 1676297213161,
    "id": "Cdfwnz7IyQwW",
    "outputId": "13659ff4-150a-4fad-fb46-0bdc578ba91c",
    "source_hash": "52abc27",
    "tags": []
   },
   "outputs": [
    {
     "data": {
      "text/plain": [
       "0.891"
      ]
     },
     "execution_count": 35,
     "metadata": {},
     "output_type": "execute_result"
    }
   ],
   "source": [
    "(t['p-value'] < 0.01).mean()"
   ]
  },
  {
   "cell_type": "markdown",
   "metadata": {
    "cell_id": "c7212c6fa10e4286888331389c587d1b",
    "deepnote_cell_type": "text-cell-p",
    "formattedRanges": [],
    "id": "6Qfxpu8syQwW",
    "is_collapsed": false,
    "tags": []
   },
   "source": [
    "Мощность соответствует нашим расчетам.\n"
   ]
  },
  {
   "cell_type": "markdown",
   "metadata": {
    "id": "diGjshxC0Vdo"
   },
   "source": [
    "# Увеличиваем значимость"
   ]
  },
  {
   "cell_type": "markdown",
   "metadata": {
    "cell_id": "585617bc-a50f-4800-a3c4-9c0968ebf09c",
    "deepnote_cell_type": "text-cell-p",
    "formattedRanges": [],
    "id": "uIXie5pVyQwX",
    "is_collapsed": false,
    "tags": []
   },
   "source": [
    "Мы можем себе позволить альфу в 0.1%. Посмотрим размеры выборки при такой альфе."
   ]
  },
  {
   "cell_type": "code",
   "execution_count": 36,
   "metadata": {
    "cell_id": "00c788013317457fbcf5c852657ed8b2",
    "deepnote_cell_type": "code",
    "id": "TNqUzCDayQwX",
    "tags": []
   },
   "outputs": [],
   "source": [
    "es = 60 / df['session_len'].std()\n"
   ]
  },
  {
   "cell_type": "code",
   "execution_count": 37,
   "metadata": {
    "cell_id": "b2bd65c07b094294b2e87c588960f839",
    "colab": {
     "base_uri": "https://localhost:8080/"
    },
    "deepnote_cell_type": "code",
    "deepnote_to_be_reexecuted": false,
    "execution_millis": 2,
    "execution_start": 1676298049884,
    "id": "k7P3IC3byQwX",
    "outputId": "b43bac03-2da4-4aff-9ddb-9e0c8d019444",
    "source_hash": "b01b112e",
    "tags": []
   },
   "outputs": [
    {
     "data": {
      "text/plain": [
       "3048.034829223486"
      ]
     },
     "execution_count": 37,
     "metadata": {},
     "output_type": "execute_result"
    }
   ],
   "source": [
    "sms.TTestIndPower().solve_power(es, power=0.90, alpha=0.001, ratio=1, alternative='two-sided')"
   ]
  },
  {
   "cell_type": "markdown",
   "metadata": {
    "cell_id": "569d7599aa4244e9ac56b077d8e18d0c",
    "deepnote_cell_type": "text-cell-p",
    "formattedRanges": [],
    "id": "czBekAT3yQwX",
    "is_collapsed": false,
    "tags": []
   },
   "source": [
    "Размер выборки вырос не сильно. Можем еще уменьшить минимальный эффект и повысить мощность."
   ]
  },
  {
   "cell_type": "code",
   "execution_count": 38,
   "metadata": {
    "cell_id": "ca18a41752d14fb79a343f40d3af60c6",
    "colab": {
     "base_uri": "https://localhost:8080/"
    },
    "deepnote_cell_type": "code",
    "deepnote_to_be_reexecuted": false,
    "execution_millis": 2,
    "execution_start": 1676298123448,
    "id": "mFA4KRmUyQwX",
    "outputId": "17449c10-1a43-4b06-99c4-f3e2eeca874e",
    "source_hash": "255f3ab9",
    "tags": []
   },
   "outputs": [
    {
     "data": {
      "text/plain": [
       "14196.809603033285"
      ]
     },
     "execution_count": 38,
     "metadata": {},
     "output_type": "execute_result"
    }
   ],
   "source": [
    "es = 30 / df['session_len'].std()\n",
    "sms.TTestIndPower().solve_power(es, power=0.95, alpha=0.001, ratio=1, alternative='two-sided')\n"
   ]
  },
  {
   "cell_type": "markdown",
   "metadata": {
    "cell_id": "93e8b3226fc542e4a2192abd1cb217e6",
    "deepnote_cell_type": "text-cell-p",
    "formattedRanges": [],
    "id": "ZYx9eD7VyQwX",
    "is_collapsed": false,
    "tags": []
   },
   "source": [
    "Чтобы провести тест с минимальным эффектом в 30 секунд, мощностью 95% и вероятностью ошибки первого рода в 0.1% потребуется 14196 наблюдений как в контрольной, так и в тестовой группе. Поскольку мы работаем в X, то вполне можем позволить себе выборки таких размеров."
   ]
  },
  {
   "cell_type": "markdown",
   "metadata": {
    "id": "ywUGyvsj0dkU"
   },
   "source": [
    "# Оценка результатов"
   ]
  },
  {
   "cell_type": "markdown",
   "metadata": {
    "cell_id": "a10d5a26-d251-4f3e-b51d-bd54640cbec4",
    "deepnote_cell_type": "text-cell-p",
    "formattedRanges": [],
    "id": "o099V1mTyQwX",
    "is_collapsed": false,
    "tags": []
   },
   "source": [
    "Мы провели А/Б тест с высчитанными нами размерами выборок и получил следующие результаты."
   ]
  },
  {
   "cell_type": "markdown",
   "metadata": {
    "cell_id": "887465be5c2c4940b7e8426c03704798",
    "deepnote_cell_type": "text-cell-p",
    "formattedRanges": [],
    "id": "lcH_xpIgyQwX",
    "is_collapsed": false,
    "tags": []
   },
   "source": [
    "Сгенерим контрольную группу."
   ]
  },
  {
   "cell_type": "code",
   "execution_count": 40,
   "metadata": {
    "cell_id": "bc34ddbb6f1e447cbf4ed632db34795c",
    "deepnote_cell_type": "code",
    "deepnote_to_be_reexecuted": false,
    "execution_millis": 0,
    "execution_start": 1676299108347,
    "id": "rLUwYwVEyQwX",
    "source_hash": "5c4b069c",
    "tags": []
   },
   "outputs": [],
   "source": [
    "a = np.random.lognormal(6.01,0.8,size=14200)"
   ]
  },
  {
   "cell_type": "markdown",
   "metadata": {
    "cell_id": "8ad58637182648d98c79e16aa1d97ecd",
    "deepnote_cell_type": "text-cell-p",
    "formattedRanges": [],
    "id": "F32iE6qFyQwX",
    "is_collapsed": false,
    "tags": []
   },
   "source": [
    "Сгенерим тестовую группу."
   ]
  },
  {
   "cell_type": "code",
   "execution_count": 42,
   "metadata": {
    "cell_id": "1acf72c2b62540ecbe108778f82dd080",
    "deepnote_cell_type": "code",
    "deepnote_to_be_reexecuted": false,
    "execution_millis": 3,
    "execution_start": 1676299119985,
    "id": "1bS3Cb-EyQwY",
    "source_hash": "1afcd96d",
    "tags": []
   },
   "outputs": [],
   "source": [
    "b = np.random.lognormal(6.09,0.76,size=14200)"
   ]
  },
  {
   "cell_type": "markdown",
   "metadata": {
    "cell_id": "fd24bc0002644523ab8b5022e2c4f298",
    "deepnote_cell_type": "text-cell-p",
    "formattedRanges": [],
    "id": "0tov6e-LyQwY",
    "is_collapsed": false,
    "tags": []
   },
   "source": [
    "Среднее в контрольной группе получилось"
   ]
  },
  {
   "cell_type": "code",
   "execution_count": 43,
   "metadata": {
    "cell_id": "5b6f5c231f0d4cb58ef2df24cb72a1d8",
    "colab": {
     "base_uri": "https://localhost:8080/"
    },
    "deepnote_cell_type": "code",
    "deepnote_to_be_reexecuted": false,
    "execution_millis": 6,
    "execution_start": 1676299133599,
    "id": "xc-d9HRHyQwY",
    "outputId": "3eea659d-45d2-4a11-e1e1-07aeb1ab24c4",
    "source_hash": "ea4dbfe2",
    "tags": []
   },
   "outputs": [
    {
     "data": {
      "text/plain": [
       "560.321721685009"
      ]
     },
     "execution_count": 43,
     "metadata": {},
     "output_type": "execute_result"
    }
   ],
   "source": [
    "a.mean()"
   ]
  },
  {
   "cell_type": "markdown",
   "metadata": {
    "cell_id": "77805f355a9e4a8e9f2b30bb5075bee1",
    "deepnote_cell_type": "text-cell-p",
    "formattedRanges": [],
    "id": "ADO-m5zTyQwY",
    "is_collapsed": false,
    "tags": []
   },
   "source": [
    "Среднее в тестовой получилось"
   ]
  },
  {
   "cell_type": "code",
   "execution_count": 44,
   "metadata": {
    "cell_id": "b4a94a5edb244ec98b55d4c99094982e",
    "colab": {
     "base_uri": "https://localhost:8080/"
    },
    "deepnote_cell_type": "code",
    "deepnote_to_be_reexecuted": false,
    "execution_millis": 1,
    "execution_start": 1676299144904,
    "id": "u8LX75MgyQwY",
    "outputId": "b97832a1-3d1c-4389-ba50-f5221b911478",
    "source_hash": "14e6af17",
    "tags": []
   },
   "outputs": [
    {
     "data": {
      "text/plain": [
       "588.5403293599229"
      ]
     },
     "execution_count": 44,
     "metadata": {},
     "output_type": "execute_result"
    }
   ],
   "source": [
    "b.mean()"
   ]
  },
  {
   "cell_type": "markdown",
   "metadata": {
    "cell_id": "1d6c2dc7c22c4cf99f6d339ce4c39def",
    "deepnote_cell_type": "text-cell-p",
    "formattedRanges": [],
    "id": "9tEBMuXxyQwY",
    "is_collapsed": false,
    "tags": []
   },
   "source": [
    "Теперь посчитаем p-value, т.е. вероятность получить минимум такую разницу между группами, при условии, что средние на самом деле равны."
   ]
  },
  {
   "cell_type": "code",
   "execution_count": 45,
   "metadata": {
    "cell_id": "0c7f5a1b976749f1ab15d5872568a5c7",
    "colab": {
     "base_uri": "https://localhost:8080/"
    },
    "deepnote_cell_type": "code",
    "deepnote_to_be_reexecuted": false,
    "execution_millis": 2,
    "execution_start": 1676299222076,
    "id": "QJC4XOGqyQwY",
    "outputId": "e7b1d8f6-14f3-4822-882b-8b6a946a0dd3",
    "source_hash": "513e142e",
    "tags": []
   },
   "outputs": [
    {
     "data": {
      "text/plain": [
       "TtestResult(statistic=-4.55484556930801, pvalue=5.264197532830499e-06, df=28386.720023640493)"
      ]
     },
     "execution_count": 45,
     "metadata": {},
     "output_type": "execute_result"
    }
   ],
   "source": [
    "ttest_ind(a,b,equal_var=False,alternative='two-sided')"
   ]
  },
  {
   "cell_type": "markdown",
   "metadata": {
    "cell_id": "54ce4d7aec8948f09adfecee1813b6b6",
    "deepnote_cell_type": "text-cell-p",
    "formattedRanges": [],
    "id": "pgjRyojzyQwY",
    "is_collapsed": false,
    "tags": []
   },
   "source": [
    "Здесь p-value получилось равным 5 * 10 ** -6 – это меньше чем выбранная нами альфа в 0.1% или 0.001. Поэтому отвергаем нулевую гипотезу о том, что группы имеют равное среднее в пользу альтернативной гипотезы: среднее в контрольной группе не равно среднему в тестовой группе."
   ]
  },
  {
   "cell_type": "markdown",
   "metadata": {
    "cell_id": "267de0fa-7af7-4b20-96cd-7bc24afa484f",
    "deepnote_cell_type": "text-cell-p",
    "formattedRanges": [],
    "id": "f_g8sO_SyQwY",
    "is_collapsed": false,
    "tags": []
   },
   "source": [
    "## Заключение\n",
    "Делаем вывод, что изменение в рекомендательной системе оказало положительный эффект и мы можем вводить это изменение для всех пользователей."
   ]
  }
 ],
 "metadata": {
  "colab": {
   "include_colab_link": true,
   "provenance": []
  },
  "deepnote_execution_queue": [],
  "deepnote_notebook_id": "83ecdf602d004a71a65ea2385aa5a6f8",
  "deepnote_persisted_session": {
   "createdAt": "2023-02-13T15:45:08.360Z"
  },
  "kernelspec": {
   "display_name": "Python 3 (ipykernel)",
   "language": "python",
   "name": "python3"
  },
  "language_info": {
   "codemirror_mode": {
    "name": "ipython",
    "version": 3
   },
   "file_extension": ".py",
   "mimetype": "text/x-python",
   "name": "python",
   "nbconvert_exporter": "python",
   "pygments_lexer": "ipython3",
   "version": "3.11.5"
  }
 },
 "nbformat": 4,
 "nbformat_minor": 1
}
